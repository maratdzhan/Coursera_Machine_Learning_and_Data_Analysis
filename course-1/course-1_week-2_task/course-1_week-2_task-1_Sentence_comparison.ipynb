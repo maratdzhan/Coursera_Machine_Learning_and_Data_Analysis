{
 "cells": [
  {
   "cell_type": "code",
   "execution_count": 1,
   "metadata": {},
   "outputs": [],
   "source": [
    "import pandas as pd\n",
    "import matplotlib.pyplot as plt\n",
    "import scipy\n",
    "import numpy as np\n",
    "import re"
   ]
  },
  {
   "cell_type": "markdown",
   "metadata": {},
   "source": [
    "<h1 align = center>ЗАДАНИЕ 1: Сравнение предложений</h1>"
   ]
  },
  {
   "cell_type": "markdown",
   "metadata": {},
   "source": [
    "<div><br><div>\n",
    "    <div><h3>\n",
    "    Считываем файл, получаем лист строк\n",
    "    </h3><div>"
   ]
  },
  {
   "cell_type": "code",
   "execution_count": 2,
   "metadata": {},
   "outputs": [],
   "source": [
    "obj = open('course-1_week-2_task-1/sentences.txt', 'r')"
   ]
  },
  {
   "cell_type": "code",
   "execution_count": 3,
   "metadata": {},
   "outputs": [],
   "source": [
    "strings_obj = obj.readlines()"
   ]
  },
  {
   "cell_type": "markdown",
   "metadata": {},
   "source": [
    "<div><br><div>\n",
    "    <div><h3>\n",
    "    Переводим строки в нижний регистр создаем массив предложений\n",
    "    </h3><div>"
   ]
  },
  {
   "cell_type": "code",
   "execution_count": 4,
   "metadata": {},
   "outputs": [],
   "source": [
    "for line in range(len(strings_obj)): strings_obj[line] = strings_obj[line].strip().lower()"
   ]
  },
  {
   "cell_type": "code",
   "execution_count": 5,
   "metadata": {},
   "outputs": [],
   "source": [
    "def GetSplit(strn):\n",
    "    return re.split('[^a-z]',strn)"
   ]
  },
  {
   "cell_type": "code",
   "execution_count": 6,
   "metadata": {},
   "outputs": [
    {
     "name": "stdout",
     "output_type": "stream",
     "text": [
      "Sentencecs quantity: 22\n",
      "Size of words list: 484\n"
     ]
    }
   ],
   "source": [
    "words_list = GetSplit(strings_obj[0]);\n",
    "for i in range(1,len(strings_obj)):\n",
    "    words_list += GetSplit(strings_obj[i]);\n",
    "   \n",
    "words_list = list(filter(None, words_list))\n",
    "print('Sentencecs quantity: {}'.format(len(strings_obj)))\n",
    "print('Size of words list: {}'.format(len(words_list)))"
   ]
  },
  {
   "cell_type": "markdown",
   "metadata": {},
   "source": [
    "<div><br><div>\n",
    "    <div><h3>\n",
    "    Cоздаем список из подсписков слов в предложении\n",
    "    </h3><div>"
   ]
  },
  {
   "cell_type": "markdown",
   "metadata": {},
   "source": [
    "<div>Функция - сплиттер</div>"
   ]
  },
  {
   "cell_type": "code",
   "execution_count": 7,
   "metadata": {},
   "outputs": [],
   "source": [
    "def GetSplitToList(strns):\n",
    "    ls = (re.split('[^a-z]',strns)); \n",
    "    ls = list(filter(None,ls))\n",
    "    return ls;"
   ]
  },
  {
   "cell_type": "markdown",
   "metadata": {},
   "source": [
    "<div>Рабочий цикл</div>"
   ]
  },
  {
   "cell_type": "code",
   "execution_count": 8,
   "metadata": {},
   "outputs": [],
   "source": [
    "words_arr = [];\n",
    "for strn in strings_obj:\n",
    "    words_arr.append(GetSplitToList(strn))"
   ]
  },
  {
   "cell_type": "markdown",
   "metadata": {},
   "source": [
    "<div><br><div>\n",
    "    <div><h3>\n",
    "    Создаем список слов в предложении\n",
    "    </h3><div>"
   ]
  },
  {
   "cell_type": "markdown",
   "metadata": {},
   "source": [
    "<div>Функция подсчета вхождений</div>"
   ]
  },
  {
   "cell_type": "code",
   "execution_count": 9,
   "metadata": {},
   "outputs": [],
   "source": [
    "def Cntr(word, arr = words_arr):\n",
    "    c = 0;\n",
    "    for sent in arr:\n",
    "        for elem in sent:\n",
    "            if (elem == word):\n",
    "                c+=1;\n",
    "    return c;"
   ]
  },
  {
   "cell_type": "markdown",
   "metadata": {},
   "source": [
    "<div> Поиск и формирование списка уникальных слов </div>"
   ]
  },
  {
   "cell_type": "code",
   "execution_count": 10,
   "metadata": {},
   "outputs": [],
   "source": [
    "wset = set();\n",
    "for sent in words_arr:\n",
    "    for elem in sent:\n",
    "        wset.add(elem);"
   ]
  },
  {
   "cell_type": "markdown",
   "metadata": {},
   "source": [
    "<div>Подсчет вхождений каждого слова, создание словаря</div>"
   ]
  },
  {
   "cell_type": "code",
   "execution_count": 11,
   "metadata": {},
   "outputs": [],
   "source": [
    "wdict = dict();\n",
    "for word in wset:\n",
    "    wdict[word] = Cntr(word, words_arr);"
   ]
  },
  {
   "cell_type": "markdown",
   "metadata": {},
   "source": [
    "<div><br><div>\n",
    "    <div><h3>\n",
    "    Матрица предложений\n",
    "    </h3><div>"
   ]
  },
  {
   "cell_type": "markdown",
   "metadata": {},
   "source": [
    "<div>Инициализируем матрицу</div>"
   ]
  },
  {
   "cell_type": "code",
   "execution_count": 32,
   "metadata": {},
   "outputs": [],
   "source": [
    "words_mx = np.zeros((len(strings_obj), len(wdict)));\n",
    "words_mx[0,0]= 25"
   ]
  },
  {
   "cell_type": "markdown",
   "metadata": {},
   "source": [
    "<div>Функция поиска слова в предложении sentence[i]</div>"
   ]
  },
  {
   "cell_type": "code",
   "execution_count": 13,
   "metadata": {},
   "outputs": [],
   "source": [
    "def GetWordInSentence(word = \"Marat\", sentence =[\"Marat\",\"is\", \"best\", \"analyst\"]):\n",
    "    for inx in range(0,len(sentence)):\n",
    "        if (sentence[inx] == word):\n",
    "            return 1;\n",
    "    return 0;"
   ]
  },
  {
   "cell_type": "markdown",
   "metadata": {},
   "source": [
    "<div>Заполняем матрицу</div>"
   ]
  },
  {
   "cell_type": "code",
   "execution_count": 38,
   "metadata": {},
   "outputs": [],
   "source": [
    "for i in range(0,len(strings_obj)):\n",
    "    j = 0;\n",
    "    #print(strings_obj[0]);\n",
    "    #print(words_arr[0]);\n",
    "    for d_word in wdict:\n",
    "        #print(d_word,\" =\");\n",
    "        val = GetWordInSentence(d_word,words_arr[i])\n",
    "        words_mx[i, j] = val;\n",
    "        #print(j,\".\", val, \"->\", words_mx[i, j]);\n",
    "        j= j+1;"
   ]
  },
  {
   "cell_type": "code",
   "execution_count": null,
   "metadata": {},
   "outputs": [],
   "source": []
  },
  {
   "cell_type": "markdown",
   "metadata": {},
   "source": [
    "<div><br></div>\n",
    "<div><h3>Поиск векторных совпадений</h3></div>\n",
    "<div><br></div>"
   ]
  },
  {
   "cell_type": "markdown",
   "metadata": {},
   "source": [
    "<div>Импорт библиотек</div>"
   ]
  },
  {
   "cell_type": "code",
   "execution_count": 39,
   "metadata": {},
   "outputs": [],
   "source": [
    "from scipy.spatial.distance import cdist"
   ]
  },
  {
   "cell_type": "code",
   "execution_count": 69,
   "metadata": {},
   "outputs": [],
   "source": [
    "result = []\n",
    "for i in range(0,len(strings_obj)):\n",
    "    result.append(scipy.spatial.distance.cosine(words_mx[0,:], words_mx[i,:]));"
   ]
  },
  {
   "cell_type": "code",
   "execution_count": 75,
   "metadata": {},
   "outputs": [
    {
     "name": "stdout",
     "output_type": "stream",
     "text": [
      "  0.  0.000\n",
      "  1.  0.940\n",
      "  2.  0.862\n",
      "  3.  0.889\n",
      "  4.  0.806\n",
      "  5.  0.935\n",
      "  6.  0.755\n",
      "  7.  0.915\n",
      "  8.  0.907\n",
      "  9.  0.883\n",
      " 10.  0.870\n",
      " 11.  0.870\n",
      " 12.  0.877\n",
      " 13.  0.870\n",
      " 14.  0.862\n",
      " 15.  0.940\n",
      " 16.  0.854\n",
      " 17.  0.950\n",
      " 18.  0.944\n",
      " 19.  0.940\n",
      " 20.  0.843\n",
      " 21.  0.825\n"
     ]
    }
   ],
   "source": [
    "for i in range(len(result)):\n",
    "    print ('{:3d}.{:7.3f}'.format(i,(result[i])))"
   ]
  },
  {
   "cell_type": "code",
   "execution_count": 49,
   "metadata": {},
   "outputs": [
    {
     "data": {
      "text/plain": [
       "'the domesticated cat and its closest wild ancestor are both diploid organisms that possess 38 chromosomes and roughly 20,000 genes.'"
      ]
     },
     "execution_count": 49,
     "metadata": {},
     "output_type": "execute_result"
    }
   ],
   "source": [
    "strings_obj[5]"
   ]
  },
  {
   "cell_type": "code",
   "execution_count": 68,
   "metadata": {},
   "outputs": [
    {
     "data": {
      "text/plain": [
       "'cats can hear sounds too faint or too high in frequency for human ears, such as those made by mice and other small animals.'"
      ]
     },
     "execution_count": 68,
     "metadata": {},
     "output_type": "execute_result"
    }
   ],
   "source": [
    "strings_obj[3]"
   ]
  },
  {
   "cell_type": "code",
   "execution_count": null,
   "metadata": {},
   "outputs": [],
   "source": []
  }
 ],
 "metadata": {
  "kernelspec": {
   "display_name": "Python 3",
   "language": "python",
   "name": "python3"
  },
  "language_info": {
   "codemirror_mode": {
    "name": "ipython",
    "version": 3
   },
   "file_extension": ".py",
   "mimetype": "text/x-python",
   "name": "python",
   "nbconvert_exporter": "python",
   "pygments_lexer": "ipython3",
   "version": "3.7.6"
  }
 },
 "nbformat": 4,
 "nbformat_minor": 4
}
