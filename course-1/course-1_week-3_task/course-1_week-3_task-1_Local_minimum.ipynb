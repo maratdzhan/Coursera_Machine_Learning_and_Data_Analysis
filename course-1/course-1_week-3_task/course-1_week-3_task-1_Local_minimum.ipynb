{
 "cells": [
  {
   "cell_type": "code",
   "execution_count": 1,
   "metadata": {},
   "outputs": [],
   "source": [
    "import numpy as np\n",
    "import pandas as pd\n",
    "from scipy.optimize import minimize\n",
    "from scipy import optimize\n",
    "import matplotlib.pyplot as plt"
   ]
  },
  {
   "cell_type": "markdown",
   "metadata": {},
   "source": [
    "<h2 align = 'center' >Определение функций, над которыми будем работать</h2>"
   ]
  },
  {
   "cell_type": "markdown",
   "metadata": {},
   "source": [
    "<div>Гладкая f(x) и разрывная h(x)</div>"
   ]
  },
  {
   "cell_type": "code",
   "execution_count": 2,
   "metadata": {},
   "outputs": [],
   "source": [
    "def f(x):\n",
    "    return (np.sin(x / 5) * np.exp(x / 10) + 5 * np.exp(-x / 2));\n",
    "\n",
    "def h(x):\n",
    "    t = (f(x)).astype(int);\n",
    "    #t = t.astype(int);\n",
    "    return t;"
   ]
  },
  {
   "cell_type": "markdown",
   "metadata": {},
   "source": [
    "<div>Графики для наглядности на интервале <i>[0; 30]</i></div>"
   ]
  },
  {
   "cell_type": "code",
   "execution_count": 28,
   "metadata": {},
   "outputs": [
    {
     "data": {
      "image/png": "[encoded data removed]",
      "text/plain": [
       "<Figure size 1080x576 with 1 Axes>"
      ]
     },
     "metadata": {
      "needs_background": "light"
     },
     "output_type": "display_data"
    }
   ],
   "source": [
    "def Draw(x):\n",
    "    f1 = f(x);\n",
    "    f2 = h(x);\n",
    "    plt.figure(figsize=(15,8))\n",
    "    plt.plot(x,f1,'r-', label = 'f(x)');\n",
    "    plt.plot(x,f2,'bo', label = 'h(x)');\n",
    "    plt.legend(fontsize = 20)\n",
    "    plt.grid(True);\n",
    "    plt.show()\n",
    "\n",
    "x = np.arange(1,31.1,0.1);\n",
    "Draw(x)"
   ]
  },
  {
   "cell_type": "markdown",
   "metadata": {},
   "source": [
    "<h2 align = 'center'>Определение функций оптимизации и поиска минимума</h2>"
   ]
  },
  {
   "cell_type": "markdown",
   "metadata": {},
   "source": [
    "<div>Функции для гладких функций: Нелдера-Мида и/или BFGS</div>\n",
    "<div>Функции для любых графиков: диференциальная эволюция</div>"
   ]
  },
  {
   "cell_type": "code",
   "execution_count": 31,
   "metadata": {},
   "outputs": [],
   "source": [
    "def SearchMin(fun, x, method = 'nelder-mead'):\n",
    "    r =  minimize(fun, x, method=method)#, options={'xtol': 1e-8, 'disp': True});\n",
    "    return r;\n",
    "\n",
    "def Diff_Evol(fun, bounds):\n",
    "    return optimize.differential_evolution(fun, bounds)"
   ]
  },
  {
   "cell_type": "markdown",
   "metadata": {},
   "source": [
    "<div><h3>Задание 1: Поиск минимума и значения функции в минимуме методами Нельдера-Мида и BFGS в точках x = 2 и x = 30</h3></div>"
   ]
  },
  {
   "cell_type": "code",
   "execution_count": 40,
   "metadata": {},
   "outputs": [
    {
     "name": "stdout",
     "output_type": "stream",
     "text": [
      "x.size() == 301\n",
      "***control  x = 2.00:\n",
      ">>> NelderMead f(x)\t== 1.745268290460671\n",
      ">>> BFGS f(x)\t\t== 1.7452682903447336\n",
      "***control x = 30:\n",
      ">>> BFGS f(x)\t\t== -11.898894665981313\n"
     ]
    }
   ],
   "source": [
    "_str = ' x = {:4.2f}:\\n>>> NelderMead f(x)\\t== {}\\n>>> BFGS f(x)\\t\\t== {}';\n",
    "print('x.size() == {}'.format(len(x)))\n",
    "print('***control',_str.format(2, SearchMin(f, 2).fun, SearchMin(f, 2, 'bfgs').fun))\n",
    "print('***control x = {}:\\n>>> BFGS f(x)\\t\\t== {}'.format(30,SearchMin(f, 30, 'bfgs').fun))"
   ]
  },
  {
   "cell_type": "markdown",
   "metadata": {},
   "source": [
    "<div><h3>Задание 2: Поиск значения функции в минимуме с использованием дифференциальной эволюции в начальной точке x = 30</h3></div>"
   ]
  },
  {
   "cell_type": "code",
   "execution_count": 44,
   "metadata": {},
   "outputs": [
    {
     "name": "stdout",
     "output_type": "stream",
     "text": [
      "Differential evolution in [(1, 30)] ==> f() = -11.90\n"
     ]
    }
   ],
   "source": [
    "bounds = [(1, 30)]\n",
    "r_diff = Diff_Evol(f, bounds)\n",
    "print('Differential evolution in {} ==> f() = {:4.2f}'.format(bounds,r_diff.fun[0]))"
   ]
  },
  {
   "cell_type": "markdown",
   "metadata": {},
   "source": [
    "<div><h3>Задание 3: использование методов BFGS и дифференциальной эволюции на функции, не имеющей градиента в начальном приближении x = 30</h3></div>"
   ]
  },
  {
   "cell_type": "code",
   "execution_count": 35,
   "metadata": {},
   "outputs": [
    {
     "name": "stdout",
     "output_type": "stream",
     "text": [
      "***BFGS\t\t ends in 3 itt \t\t>> f_val(30.0)\t = -5\n",
      "***Diff_Evol\t ends in 77 itt \t>> f_val(26.11)\t = -11.0\n"
     ]
    }
   ],
   "source": [
    "r_bfgs = SearchMin(h, 30., 'bfgs');\n",
    "r_diff = Diff_Evol(h, bounds)\n",
    "print('***BFGS\\t\\t ends in {} itt \\t\\t>> f_val({})\\t = {}'.format(r_bfgs.nfev, r_bfgs.x[0],(r_bfgs.fun[0])))\n",
    "print('***Diff_Evol\\t ends in {} itt \\t>> f_val({:4.2f})\\t = {}'.format(r_diff.nfev, r_diff.x[0],(r_diff.fun)))"
   ]
  },
  {
   "cell_type": "code",
   "execution_count": null,
   "metadata": {},
   "outputs": [],
   "source": []
  }
 ],
 "metadata": {
  "kernelspec": {
   "display_name": "Python 3",
   "language": "python",
   "name": "python3"
  },
  "language_info": {
   "codemirror_mode": {
    "name": "ipython",
    "version": 3
   },
   "file_extension": ".py",
   "mimetype": "text/x-python",
   "name": "python",
   "nbconvert_exporter": "python",
   "pygments_lexer": "ipython3",
   "version": "3.7.6"
  }
 },
 "nbformat": 4,
 "nbformat_minor": 4
}
